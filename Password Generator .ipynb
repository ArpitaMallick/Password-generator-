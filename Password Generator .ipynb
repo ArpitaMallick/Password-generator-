{
 "cells": [
  {
   "cell_type": "code",
   "execution_count": 1,
   "metadata": {},
   "outputs": [],
   "source": [
    "import random\n",
    "from tkinter import *\n",
    "import string "
   ]
  },
  {
   "cell_type": "code",
   "execution_count": 9,
   "metadata": {},
   "outputs": [],
   "source": [
    "def generate_pass():\n",
    "    password=[]\n",
    "    for i in range(5):\n",
    "        alpha=random.choice(string.ascii_letters)\n",
    "        symbol=random.choice(string.punctuation)\n",
    "        numbers=random.choice(string.ascii_letters)\n",
    "        password.append(alpha)\n",
    "        password.append(symbol)\n",
    "        password.append(numbers)\n",
    "        \n",
    "        \n",
    "    y=\"\".join(str(x) for x in password)\n",
    "    l1.config(text=y)\n",
    "        \n",
    "\n",
    "\n",
    "root=Tk()\n",
    "root.geometry=(\"300x250\")\n",
    "bt1=Button(root, text=\"generate password\", command=generate_pass)\n",
    "bt1.grid(row=2,column=2)\n",
    "\n",
    "l1=Label(root,font='times 20')\n",
    "l1.grid(row=4,column=2)\n",
    "root.mainloop()"
   ]
  },
  {
   "cell_type": "code",
   "execution_count": null,
   "metadata": {},
   "outputs": [],
   "source": []
  }
 ],
 "metadata": {
  "kernelspec": {
   "display_name": "Python 3",
   "language": "python",
   "name": "python3"
  },
  "language_info": {
   "codemirror_mode": {
    "name": "ipython",
    "version": 3
   },
   "file_extension": ".py",
   "mimetype": "text/x-python",
   "name": "python",
   "nbconvert_exporter": "python",
   "pygments_lexer": "ipython3",
   "version": "3.7.3"
  }
 },
 "nbformat": 4,
 "nbformat_minor": 2
}
